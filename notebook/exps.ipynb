{
 "cells": [
  {
   "cell_type": "code",
   "execution_count": 4,
   "id": "e08ed9e3-57e1-4a15-bc77-be263c103f6e",
   "metadata": {},
   "outputs": [
    {
     "data": {
      "text/plain": [
       "True"
      ]
     },
     "execution_count": 4,
     "metadata": {},
     "output_type": "execute_result"
    }
   ],
   "source": [
    "import os\n",
    "from dotenv import load_dotenv\n",
    "load_dotenv()"
   ]
  },
  {
   "cell_type": "code",
   "execution_count": 6,
   "id": "3571f04b-14e5-4298-b269-28889ab3a62b",
   "metadata": {},
   "outputs": [
    {
     "ename": "ModuleNotFoundError",
     "evalue": "No module named 'llama_index.llms.gemini'",
     "output_type": "error",
     "traceback": [
      "\u001b[1;31m---------------------------------------------------------------------------\u001b[0m",
      "\u001b[1;31mModuleNotFoundError\u001b[0m                       Traceback (most recent call last)",
      "Cell \u001b[1;32mIn[6], line 1\u001b[0m\n\u001b[1;32m----> 1\u001b[0m \u001b[38;5;28;01mfrom\u001b[39;00m \u001b[38;5;21;01mllama_index\u001b[39;00m\u001b[38;5;21;01m.\u001b[39;00m\u001b[38;5;21;01mllms\u001b[39;00m\u001b[38;5;21;01m.\u001b[39;00m\u001b[38;5;21;01mgemini\u001b[39;00m \u001b[38;5;28;01mimport\u001b[39;00m Gemini\n\u001b[0;32m      3\u001b[0m \u001b[38;5;28;01mimport\u001b[39;00m \u001b[38;5;21;01mgoogle\u001b[39;00m\u001b[38;5;21;01m.\u001b[39;00m\u001b[38;5;21;01mgenerativeai\u001b[39;00m \u001b[38;5;28;01mas\u001b[39;00m \u001b[38;5;21;01mgenai\u001b[39;00m\n\u001b[0;32m      5\u001b[0m \u001b[38;5;28;01mfrom\u001b[39;00m \u001b[38;5;21;01mllama_index\u001b[39;00m\u001b[38;5;21;01m.\u001b[39;00m\u001b[38;5;21;01mcore\u001b[39;00m \u001b[38;5;28;01mimport\u001b[39;00m SimpleDirectoryReader\n",
      "\u001b[1;31mModuleNotFoundError\u001b[0m: No module named 'llama_index.llms.gemini'"
     ]
    }
   ],
   "source": [
    "from llama_index.llms.gemini import Gemini\n",
    "\n",
    "import google.generativeai as genai\n",
    "\n",
    "from llama_index.core import SimpleDirectoryReader\n",
    "\n",
    "from llama_index.core import VectorStoreIndex\n",
    "\n",
    "from IPython.display import Markdown, display\n",
    "\n",
    "from llama_index.core import ServiceContext\n",
    "\n",
    "from llama_index.core import StorageContext, load_index_from_storage\n",
    "\n",
    "from llama_index.embeddings.gemini import GeminiEmbedding"
   ]
  },
  {
   "cell_type": "code",
   "execution_count": 4,
   "id": "d81414b5-7a1f-43ea-8373-34880db5e389",
   "metadata": {},
   "outputs": [
    {
     "name": "stdout",
     "output_type": "stream",
     "text": [
      "Collecting llama_index\n",
      "  Using cached llama_index-0.12.1-py3-none-any.whl.metadata (11 kB)\n",
      "Collecting llama-index-agent-openai<0.5.0,>=0.4.0 (from llama_index)\n",
      "  Using cached llama_index_agent_openai-0.4.0-py3-none-any.whl.metadata (726 bytes)\n",
      "Collecting llama-index-cli<0.5.0,>=0.4.0 (from llama_index)\n",
      "  Using cached llama_index_cli-0.4.0-py3-none-any.whl.metadata (1.5 kB)\n",
      "Collecting llama-index-core<0.13.0,>=0.12.1 (from llama_index)\n",
      "  Using cached llama_index_core-0.12.1-py3-none-any.whl.metadata (2.5 kB)\n",
      "Collecting llama-index-embeddings-openai<0.4.0,>=0.3.0 (from llama_index)\n",
      "  Using cached llama_index_embeddings_openai-0.3.0-py3-none-any.whl.metadata (684 bytes)\n",
      "Collecting llama-index-indices-managed-llama-cloud>=0.4.0 (from llama_index)\n",
      "  Using cached llama_index_indices_managed_llama_cloud-0.6.2-py3-none-any.whl.metadata (3.8 kB)\n",
      "Collecting llama-index-legacy<0.10.0,>=0.9.48 (from llama_index)\n",
      "  Using cached llama_index_legacy-0.9.48.post4-py3-none-any.whl.metadata (8.5 kB)\n",
      "Collecting llama-index-llms-openai<0.4.0,>=0.3.0 (from llama_index)\n",
      "  Using cached llama_index_llms_openai-0.3.1-py3-none-any.whl.metadata (3.3 kB)\n",
      "Collecting llama-index-multi-modal-llms-openai<0.4.0,>=0.3.0 (from llama_index)\n",
      "  Using cached llama_index_multi_modal_llms_openai-0.3.0-py3-none-any.whl.metadata (726 bytes)\n",
      "Collecting llama-index-program-openai<0.4.0,>=0.3.0 (from llama_index)\n",
      "  Using cached llama_index_program_openai-0.3.0-py3-none-any.whl.metadata (764 bytes)\n",
      "Collecting llama-index-question-gen-openai<0.4.0,>=0.3.0 (from llama_index)\n",
      "  Using cached llama_index_question_gen_openai-0.3.0-py3-none-any.whl.metadata (783 bytes)\n",
      "Collecting llama-index-readers-file<0.5.0,>=0.4.0 (from llama_index)\n",
      "  Using cached llama_index_readers_file-0.4.0-py3-none-any.whl.metadata (5.4 kB)\n",
      "Collecting llama-index-readers-llama-parse>=0.4.0 (from llama_index)\n",
      "  Using cached llama_index_readers_llama_parse-0.4.0-py3-none-any.whl.metadata (3.6 kB)\n",
      "Requirement already satisfied: nltk>3.8.1 in c:\\users\\vinayak\\anaconda3\\lib\\site-packages (from llama_index) (3.9.1)\n",
      "Collecting openai>=1.14.0 (from llama-index-agent-openai<0.5.0,>=0.4.0->llama_index)\n",
      "  Using cached openai-1.55.0-py3-none-any.whl.metadata (24 kB)\n",
      "Requirement already satisfied: PyYAML>=6.0.1 in c:\\users\\vinayak\\anaconda3\\lib\\site-packages (from llama-index-core<0.13.0,>=0.12.1->llama_index) (6.0.1)\n",
      "Requirement already satisfied: SQLAlchemy>=1.4.49 in c:\\users\\vinayak\\anaconda3\\lib\\site-packages (from SQLAlchemy[asyncio]>=1.4.49->llama-index-core<0.13.0,>=0.12.1->llama_index) (2.0.30)\n",
      "Requirement already satisfied: aiohttp<4.0.0,>=3.8.6 in c:\\users\\vinayak\\anaconda3\\lib\\site-packages (from llama-index-core<0.13.0,>=0.12.1->llama_index) (3.9.5)\n",
      "Requirement already satisfied: dataclasses-json in c:\\users\\vinayak\\anaconda3\\lib\\site-packages (from llama-index-core<0.13.0,>=0.12.1->llama_index) (0.6.7)\n",
      "Requirement already satisfied: deprecated>=1.2.9.3 in c:\\users\\vinayak\\anaconda3\\lib\\site-packages (from llama-index-core<0.13.0,>=0.12.1->llama_index) (1.2.14)\n",
      "Collecting dirtyjson<2.0.0,>=1.0.8 (from llama-index-core<0.13.0,>=0.12.1->llama_index)\n",
      "  Using cached dirtyjson-1.0.8-py3-none-any.whl.metadata (11 kB)\n",
      "Requirement already satisfied: filetype<2.0.0,>=1.2.0 in c:\\users\\vinayak\\anaconda3\\lib\\site-packages (from llama-index-core<0.13.0,>=0.12.1->llama_index) (1.2.0)\n",
      "Requirement already satisfied: fsspec>=2023.5.0 in c:\\users\\vinayak\\anaconda3\\lib\\site-packages (from llama-index-core<0.13.0,>=0.12.1->llama_index) (2024.3.1)\n",
      "Requirement already satisfied: httpx in c:\\users\\vinayak\\anaconda3\\lib\\site-packages (from llama-index-core<0.13.0,>=0.12.1->llama_index) (0.27.2)\n",
      "Requirement already satisfied: nest-asyncio<2.0.0,>=1.5.8 in c:\\users\\vinayak\\anaconda3\\lib\\site-packages (from llama-index-core<0.13.0,>=0.12.1->llama_index) (1.6.0)\n",
      "Requirement already satisfied: networkx>=3.0 in c:\\users\\vinayak\\anaconda3\\lib\\site-packages (from llama-index-core<0.13.0,>=0.12.1->llama_index) (3.2.1)\n",
      "Requirement already satisfied: numpy in c:\\users\\vinayak\\anaconda3\\lib\\site-packages (from llama-index-core<0.13.0,>=0.12.1->llama_index) (1.26.4)\n",
      "Requirement already satisfied: pillow>=9.0.0 in c:\\users\\vinayak\\anaconda3\\lib\\site-packages (from llama-index-core<0.13.0,>=0.12.1->llama_index) (10.3.0)\n",
      "Requirement already satisfied: pydantic<2.10.0,>=2.7.0 in c:\\users\\vinayak\\anaconda3\\lib\\site-packages (from llama-index-core<0.13.0,>=0.12.1->llama_index) (2.9.2)\n",
      "Requirement already satisfied: requests>=2.31.0 in c:\\users\\vinayak\\anaconda3\\lib\\site-packages (from llama-index-core<0.13.0,>=0.12.1->llama_index) (2.32.2)\n",
      "Collecting tenacity!=8.4.0,<9.0.0,>=8.2.0 (from llama-index-core<0.13.0,>=0.12.1->llama_index)\n",
      "  Using cached tenacity-8.5.0-py3-none-any.whl.metadata (1.2 kB)\n",
      "Collecting tiktoken>=0.3.3 (from llama-index-core<0.13.0,>=0.12.1->llama_index)\n",
      "  Using cached tiktoken-0.8.0-cp312-cp312-win_amd64.whl.metadata (6.8 kB)\n",
      "Requirement already satisfied: tqdm<5.0.0,>=4.66.1 in c:\\users\\vinayak\\anaconda3\\lib\\site-packages (from llama-index-core<0.13.0,>=0.12.1->llama_index) (4.66.4)\n",
      "Requirement already satisfied: typing-extensions>=4.5.0 in c:\\users\\vinayak\\anaconda3\\lib\\site-packages (from llama-index-core<0.13.0,>=0.12.1->llama_index) (4.11.0)\n",
      "Requirement already satisfied: typing-inspect>=0.8.0 in c:\\users\\vinayak\\anaconda3\\lib\\site-packages (from llama-index-core<0.13.0,>=0.12.1->llama_index) (0.9.0)\n",
      "Requirement already satisfied: wrapt in c:\\users\\vinayak\\anaconda3\\lib\\site-packages (from llama-index-core<0.13.0,>=0.12.1->llama_index) (1.14.1)\n",
      "Collecting llama-cloud>=0.1.5 (from llama-index-indices-managed-llama-cloud>=0.4.0->llama_index)\n",
      "  Using cached llama_cloud-0.1.5-py3-none-any.whl.metadata (763 bytes)\n",
      "Requirement already satisfied: pandas in c:\\users\\vinayak\\anaconda3\\lib\\site-packages (from llama-index-legacy<0.10.0,>=0.9.48->llama_index) (2.2.2)\n",
      "Requirement already satisfied: beautifulsoup4<5.0.0,>=4.12.3 in c:\\users\\vinayak\\anaconda3\\lib\\site-packages (from llama-index-readers-file<0.5.0,>=0.4.0->llama_index) (4.12.3)\n",
      "Requirement already satisfied: pypdf<6.0.0,>=5.1.0 in c:\\users\\vinayak\\anaconda3\\lib\\site-packages (from llama-index-readers-file<0.5.0,>=0.4.0->llama_index) (5.1.0)\n",
      "Collecting striprtf<0.0.27,>=0.0.26 (from llama-index-readers-file<0.5.0,>=0.4.0->llama_index)\n",
      "  Using cached striprtf-0.0.26-py3-none-any.whl.metadata (2.1 kB)\n",
      "Collecting llama-parse>=0.5.0 (from llama-index-readers-llama-parse>=0.4.0->llama_index)\n",
      "  Using cached llama_parse-0.5.15-py3-none-any.whl.metadata (7.0 kB)\n",
      "Requirement already satisfied: click in c:\\users\\vinayak\\anaconda3\\lib\\site-packages (from nltk>3.8.1->llama_index) (8.1.7)\n",
      "Requirement already satisfied: joblib in c:\\users\\vinayak\\anaconda3\\lib\\site-packages (from nltk>3.8.1->llama_index) (1.4.2)\n",
      "Requirement already satisfied: regex>=2021.8.3 in c:\\users\\vinayak\\anaconda3\\lib\\site-packages (from nltk>3.8.1->llama_index) (2023.10.3)\n",
      "Requirement already satisfied: aiosignal>=1.1.2 in c:\\users\\vinayak\\anaconda3\\lib\\site-packages (from aiohttp<4.0.0,>=3.8.6->llama-index-core<0.13.0,>=0.12.1->llama_index) (1.2.0)\n",
      "Requirement already satisfied: attrs>=17.3.0 in c:\\users\\vinayak\\anaconda3\\lib\\site-packages (from aiohttp<4.0.0,>=3.8.6->llama-index-core<0.13.0,>=0.12.1->llama_index) (23.1.0)\n",
      "Requirement already satisfied: frozenlist>=1.1.1 in c:\\users\\vinayak\\anaconda3\\lib\\site-packages (from aiohttp<4.0.0,>=3.8.6->llama-index-core<0.13.0,>=0.12.1->llama_index) (1.4.0)\n",
      "Requirement already satisfied: multidict<7.0,>=4.5 in c:\\users\\vinayak\\anaconda3\\lib\\site-packages (from aiohttp<4.0.0,>=3.8.6->llama-index-core<0.13.0,>=0.12.1->llama_index) (6.0.4)\n",
      "Requirement already satisfied: yarl<2.0,>=1.0 in c:\\users\\vinayak\\anaconda3\\lib\\site-packages (from aiohttp<4.0.0,>=3.8.6->llama-index-core<0.13.0,>=0.12.1->llama_index) (1.9.3)\n",
      "Requirement already satisfied: soupsieve>1.2 in c:\\users\\vinayak\\anaconda3\\lib\\site-packages (from beautifulsoup4<5.0.0,>=4.12.3->llama-index-readers-file<0.5.0,>=0.4.0->llama_index) (2.5)\n",
      "Requirement already satisfied: anyio in c:\\users\\vinayak\\anaconda3\\lib\\site-packages (from httpx->llama-index-core<0.13.0,>=0.12.1->llama_index) (4.2.0)\n",
      "Requirement already satisfied: certifi in c:\\users\\vinayak\\anaconda3\\lib\\site-packages (from httpx->llama-index-core<0.13.0,>=0.12.1->llama_index) (2024.7.4)\n",
      "Requirement already satisfied: httpcore==1.* in c:\\users\\vinayak\\anaconda3\\lib\\site-packages (from httpx->llama-index-core<0.13.0,>=0.12.1->llama_index) (1.0.2)\n",
      "Requirement already satisfied: idna in c:\\users\\vinayak\\anaconda3\\lib\\site-packages (from httpx->llama-index-core<0.13.0,>=0.12.1->llama_index) (3.7)\n",
      "Requirement already satisfied: sniffio in c:\\users\\vinayak\\anaconda3\\lib\\site-packages (from httpx->llama-index-core<0.13.0,>=0.12.1->llama_index) (1.3.0)\n",
      "Requirement already satisfied: h11<0.15,>=0.13 in c:\\users\\vinayak\\anaconda3\\lib\\site-packages (from httpcore==1.*->httpx->llama-index-core<0.13.0,>=0.12.1->llama_index) (0.14.0)\n",
      "Requirement already satisfied: colorama in c:\\users\\vinayak\\anaconda3\\lib\\site-packages (from click->nltk>3.8.1->llama_index) (0.4.6)\n",
      "Requirement already satisfied: distro<2,>=1.7.0 in c:\\users\\vinayak\\anaconda3\\lib\\site-packages (from openai>=1.14.0->llama-index-agent-openai<0.5.0,>=0.4.0->llama_index) (1.9.0)\n",
      "Requirement already satisfied: jiter<1,>=0.4.0 in c:\\users\\vinayak\\anaconda3\\lib\\site-packages (from openai>=1.14.0->llama-index-agent-openai<0.5.0,>=0.4.0->llama_index) (0.7.1)\n",
      "Requirement already satisfied: annotated-types>=0.6.0 in c:\\users\\vinayak\\anaconda3\\lib\\site-packages (from pydantic<2.10.0,>=2.7.0->llama-index-core<0.13.0,>=0.12.1->llama_index) (0.6.0)\n",
      "Requirement already satisfied: pydantic-core==2.23.4 in c:\\users\\vinayak\\anaconda3\\lib\\site-packages (from pydantic<2.10.0,>=2.7.0->llama-index-core<0.13.0,>=0.12.1->llama_index) (2.23.4)\n",
      "Requirement already satisfied: charset-normalizer<4,>=2 in c:\\users\\vinayak\\anaconda3\\lib\\site-packages (from requests>=2.31.0->llama-index-core<0.13.0,>=0.12.1->llama_index) (2.0.4)\n",
      "Requirement already satisfied: urllib3<3,>=1.21.1 in c:\\users\\vinayak\\anaconda3\\lib\\site-packages (from requests>=2.31.0->llama-index-core<0.13.0,>=0.12.1->llama_index) (2.2.2)\n",
      "Requirement already satisfied: greenlet!=0.4.17 in c:\\users\\vinayak\\anaconda3\\lib\\site-packages (from SQLAlchemy>=1.4.49->SQLAlchemy[asyncio]>=1.4.49->llama-index-core<0.13.0,>=0.12.1->llama_index) (3.0.1)\n",
      "Requirement already satisfied: mypy-extensions>=0.3.0 in c:\\users\\vinayak\\anaconda3\\lib\\site-packages (from typing-inspect>=0.8.0->llama-index-core<0.13.0,>=0.12.1->llama_index) (1.0.0)\n",
      "Requirement already satisfied: marshmallow<4.0.0,>=3.18.0 in c:\\users\\vinayak\\anaconda3\\lib\\site-packages (from dataclasses-json->llama-index-core<0.13.0,>=0.12.1->llama_index) (3.21.3)\n",
      "Requirement already satisfied: python-dateutil>=2.8.2 in c:\\users\\vinayak\\anaconda3\\lib\\site-packages (from pandas->llama-index-legacy<0.10.0,>=0.9.48->llama_index) (2.8.2)\n",
      "Requirement already satisfied: pytz>=2020.1 in c:\\users\\vinayak\\anaconda3\\lib\\site-packages (from pandas->llama-index-legacy<0.10.0,>=0.9.48->llama_index) (2024.1)\n",
      "Requirement already satisfied: tzdata>=2022.7 in c:\\users\\vinayak\\anaconda3\\lib\\site-packages (from pandas->llama-index-legacy<0.10.0,>=0.9.48->llama_index) (2023.3)\n",
      "Requirement already satisfied: packaging>=17.0 in c:\\users\\vinayak\\anaconda3\\lib\\site-packages (from marshmallow<4.0.0,>=3.18.0->dataclasses-json->llama-index-core<0.13.0,>=0.12.1->llama_index) (23.2)\n",
      "Requirement already satisfied: six>=1.5 in c:\\users\\vinayak\\anaconda3\\lib\\site-packages (from python-dateutil>=2.8.2->pandas->llama-index-legacy<0.10.0,>=0.9.48->llama_index) (1.16.0)\n",
      "Using cached llama_index-0.12.1-py3-none-any.whl (6.8 kB)\n",
      "Using cached llama_index_agent_openai-0.4.0-py3-none-any.whl (13 kB)\n",
      "Using cached llama_index_cli-0.4.0-py3-none-any.whl (27 kB)\n",
      "Using cached llama_index_core-0.12.1-py3-none-any.whl (1.6 MB)\n",
      "Using cached llama_index_embeddings_openai-0.3.0-py3-none-any.whl (6.1 kB)\n",
      "Using cached llama_index_indices_managed_llama_cloud-0.6.2-py3-none-any.whl (11 kB)\n",
      "Using cached llama_index_legacy-0.9.48.post4-py3-none-any.whl (1.2 MB)\n",
      "Using cached llama_index_llms_openai-0.3.1-py3-none-any.whl (13 kB)\n",
      "Using cached llama_index_multi_modal_llms_openai-0.3.0-py3-none-any.whl (5.9 kB)\n",
      "Using cached llama_index_program_openai-0.3.0-py3-none-any.whl (5.3 kB)\n",
      "Using cached llama_index_question_gen_openai-0.3.0-py3-none-any.whl (2.9 kB)\n",
      "Using cached llama_index_readers_file-0.4.0-py3-none-any.whl (38 kB)\n",
      "Using cached llama_index_readers_llama_parse-0.4.0-py3-none-any.whl (2.5 kB)\n",
      "Using cached dirtyjson-1.0.8-py3-none-any.whl (25 kB)\n",
      "Using cached llama_cloud-0.1.5-py3-none-any.whl (188 kB)\n",
      "Using cached llama_parse-0.5.15-py3-none-any.whl (13 kB)\n",
      "Using cached openai-1.55.0-py3-none-any.whl (389 kB)\n",
      "Using cached striprtf-0.0.26-py3-none-any.whl (6.9 kB)\n",
      "Using cached tenacity-8.5.0-py3-none-any.whl (28 kB)\n",
      "Using cached tiktoken-0.8.0-cp312-cp312-win_amd64.whl (883 kB)\n",
      "Installing collected packages: striprtf, dirtyjson, tenacity, tiktoken, openai, llama-index-core, llama-cloud, llama-parse, llama-index-readers-file, llama-index-llms-openai, llama-index-legacy, llama-index-indices-managed-llama-cloud, llama-index-embeddings-openai, llama-index-readers-llama-parse, llama-index-multi-modal-llms-openai, llama-index-cli, llama-index-agent-openai, llama-index-program-openai, llama-index-question-gen-openai, llama_index\n",
      "  Attempting uninstall: tenacity\n",
      "    Found existing installation: tenacity 9.0.0\n",
      "    Uninstalling tenacity-9.0.0:\n",
      "      Successfully uninstalled tenacity-9.0.0\n",
      "Successfully installed dirtyjson-1.0.8 llama-cloud-0.1.5 llama-index-agent-openai-0.4.0 llama-index-cli-0.4.0 llama-index-core-0.12.1 llama-index-embeddings-openai-0.3.0 llama-index-indices-managed-llama-cloud-0.6.2 llama-index-legacy-0.9.48.post4 llama-index-llms-openai-0.3.1 llama-index-multi-modal-llms-openai-0.3.0 llama-index-program-openai-0.3.0 llama-index-question-gen-openai-0.3.0 llama-index-readers-file-0.4.0 llama-index-readers-llama-parse-0.4.0 llama-parse-0.5.15 llama_index-0.12.1 openai-1.55.0 striprtf-0.0.26 tenacity-8.5.0 tiktoken-0.8.0\n"
     ]
    },
    {
     "name": "stderr",
     "output_type": "stream",
     "text": [
      "ERROR: pip's dependency resolver does not currently take into account all the packages that are installed. This behaviour is the source of the following dependency conflicts.\n",
      "langchain 0.2.6 requires langchain-core<0.3.0,>=0.2.10, but you have langchain-core 0.3.18 which is incompatible.\n",
      "langchain-community 0.2.6 requires langchain-core<0.3.0,>=0.2.10, but you have langchain-core 0.3.18 which is incompatible.\n",
      "langchain-experimental 0.0.62 requires langchain-core<0.3.0,>=0.2.10, but you have langchain-core 0.3.18 which is incompatible.\n",
      "langchain-text-splitters 0.2.2 requires langchain-core<0.3.0,>=0.2.10, but you have langchain-core 0.3.18 which is incompatible.\n",
      "streamlit 1.32.0 requires protobuf<5,>=3.20, but you have protobuf 5.28.3 which is incompatible.\n"
     ]
    }
   ],
   "source": [
    "!pip3 install llama_index"
   ]
  },
  {
   "cell_type": "code",
   "execution_count": null,
   "id": "e06f8a57-629d-4111-9f78-42290357eeab",
   "metadata": {},
   "outputs": [],
   "source": []
  }
 ],
 "metadata": {
  "kernelspec": {
   "display_name": "Python 3 (ipykernel)",
   "language": "python",
   "name": "python3"
  },
  "language_info": {
   "codemirror_mode": {
    "name": "ipython",
    "version": 3
   },
   "file_extension": ".py",
   "mimetype": "text/x-python",
   "name": "python",
   "nbconvert_exporter": "python",
   "pygments_lexer": "ipython3",
   "version": "3.12.4"
  }
 },
 "nbformat": 4,
 "nbformat_minor": 5
}
